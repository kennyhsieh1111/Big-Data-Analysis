{
 "cells": [
  {
   "cell_type": "markdown",
   "metadata": {},
   "source": [
    "Crawler for NSYUS News Title\n",
    "===\n",
    "巨量資料分析導論 Homework 1\n",
    "\n",
    "B036060017 資管大四 謝威廷, 2018/3/11\n",
    "\n",
    "## Introduction\n",
    "爬取[中山大學新聞](http://news.nsysu.edu.tw/files/40-1342-2910-1.php?Lang=zh-tw)頁面的標題，並將結果輸出成檔案，供後續使用（Ex. 文字探勘）。\n",
    "\n",
    "同時，由於使用者可能會需要爬取大量頁面，因此加入進度條的設計，供使用者暸解目前爬取進度。"
   ]
  },
  {
   "cell_type": "code",
   "execution_count": 17,
   "metadata": {},
   "outputs": [
    {
     "name": "stderr",
     "output_type": "stream",
     "text": [
      "100%|██████████| 20/20 [00:05<00:00,  3.88it/s]\n"
     ]
    }
   ],
   "source": [
    "import requests\n",
    "from bs4 import BeautifulSoup\n",
    "import re # Regular Expression\n",
    "from tqdm import tqdm # Progress Bar\n",
    "\n",
    "page_num = 20\n",
    "title_list = []\n",
    "\n",
    "with tqdm(total=page_num) as pbar:\n",
    "    for i in range(page_num):\n",
    "        # Parse the website\n",
    "        url = 'http://news.nsysu.edu.tw/files/40-1342-2910-' + str(i+1) + '.php?Lang=zh-tw'\n",
    "        response = requests.get(url)\n",
    "        response.encoding = 'utf-8'\n",
    "        soup = BeautifulSoup(response.text, 'html.parser')\n",
    "\n",
    "        # Parse the specific location(title in this case)\n",
    "        titles = soup.find_all(\"div\", {\"class\":\"h5\"})\n",
    "        for title in titles:\n",
    "            title_name = re.findall('title=\".+\"', str(title))[0][7:][:-1]\n",
    "            title_list.append(title_name) # Add to the list\n",
    "        \n",
    "        pbar.update(1)\n",
    "pbar.close()"
   ]
  },
  {
   "cell_type": "code",
   "execution_count": 18,
   "metadata": {},
   "outputs": [
    {
     "name": "stdout",
     "output_type": "stream",
     "text": [
      "Total numbers of news title :  300\n"
     ]
    }
   ],
   "source": [
    "print(\"Total numbers of news title : \", len(title_list))"
   ]
  },
  {
   "cell_type": "markdown",
   "metadata": {},
   "source": [
    "## Writing the result to file"
   ]
  },
  {
   "cell_type": "code",
   "execution_count": 14,
   "metadata": {
    "collapsed": true
   },
   "outputs": [],
   "source": [
    "with open(\"NsysuNewsTitle.txt\", 'w') as fp:\n",
    "    for item in title_list:\n",
    "        fp.write(\"{}\\n\".format(item))"
   ]
  },
  {
   "cell_type": "markdown",
   "metadata": {},
   "source": [
    "## Reading the file"
   ]
  },
  {
   "cell_type": "code",
   "execution_count": 15,
   "metadata": {},
   "outputs": [
    {
     "name": "stdout",
     "output_type": "stream",
     "text": [
      "AI人工智慧夯 資管系與時俱進設機器人課程\n",
      "風帆好手西灣競技  中山大阪臺日交流\n",
      "菲國企業中山徵才  邀台青赴菲創業就業\n",
      "跨足世界 中山大學師資生赴美取經\n",
      "跨院合授激盪火花 科學與社會的公民討論\n",
      "中山大學「徵才實料」就博會　年薪上看百萬\n",
      "中山大學辦品牌趨勢論壇 沈春華盛治仁談公關危機\n",
      "親授不藏私 管院業界導師為新鮮人帶路\n",
      "2018中山陽光藝術季 「悠遊享藝」3月登場\n",
      "零污染 防救災共構共站行動通訊平臺啟用\n",
      "有狗有力新氣象 107年度新春健行\n",
      "NG蔬果做公益 中山丑果食物銀行旗津送暖\n",
      "越南外貿大學來台體驗 中山管院校際交流\n",
      "當藝術撞見科學 蘇燦隆完美串聯\n",
      "激發真實自我 劇場女神中山教學初體驗\n",
      "全球魚客松高雄場落幕 中山團隊勇奪3大獎\n",
      "促國際學用交流 OPTIC千人與會\n",
      "空拍東沙海草床 中山大學記錄珍貴魟魚畫面\n",
      "2017年度十大中山新聞\n",
      "亞洲唯一 中山物理博士生獲IEEE獎學金\n",
      "提早預測瘋狗浪 中山大學與法國聯手研究\n",
      "補選出爐   新任學生會長袁禾青：推倒高牆\n",
      "不畏低溫！中山107研究所考試順利結束\n",
      "「休息在當下」 作家劉崇鳳談旅行與歸來\n",
      "中山與馬賽兩大學簽署合作 推台法海洋研究\n",
      "「錢」進新南向！ 中山校友分享新創經驗\n",
      "中山大學攜手牛津 創南臺灣國際產學聯盟\n",
      "科學大突破！ 中山大學研發全球最大光子晶體\n",
      "107學年度學測 中山大學試務工作順利落幕\n",
      "落實社會關懷  數位行銷傳播實務成果亮眼\n",
      "全國首支赴菲教研團隊 中山大學新南向出征\n",
      "《IC之音》專訪  蔡秀芬談科技中的女性觀點\n",
      "幫台灣淨灘 ACT邀你一起RE-THINK海洋環保\n",
      "中山有GO讚   鄭英耀校長歲末勉「勇於變革」\n",
      "中山大學攜手產官學 培育農青創客\n",
      "中山大學即時把關空污 西子灣設PM2.5監測儀\n",
      "全國英文演講競賽 中山學生勇奪冠亞軍\n",
      "管院ACT國際嘉年華 博覽多國文化\n",
      "動物洪水遷移 管樂團擬聲重現諾亞方舟\n",
      "引領高教趨勢 中山大學打造學習生態系統\n",
      "暖化加快深海酸化 中山大學跨國研究登頂尖期刊\n",
      "擊出新春好運 2018菜鳥盃桌球賽熱血開打\n",
      "中山攜手港務公司 擘劃國際港埠經營新藍圖\n",
      "來防空洞看戲 中山大學打造沉浸式劇場\n",
      "校園證券投資智慧王 中山財管囊括2銀1銅\n",
      "撥霾見日！ 中山大學「PM2.5視界」特展\n",
      "中山辦第25屆證券暨金融市研討會 圓滿落幕\n",
      "餘光片語師生迴響 中山校園追思余光中教授\n",
      "中山大學「海納百川」  特殊選才比例全國最高\n",
      "古道歷史場域再造 人文景觀步道完工\n",
      "嗶卡做公益 中山攜手悠遊卡西灣圓夢\n",
      "中山大學首齣原創音樂劇 《大海的女兒》28日開演\n",
      "中山史丹佛跨國合作 北美鐵路華工專書發表\n",
      "從老師到youtuber   蕭宇辰：讓自己被取代\n",
      "中山邀你「滾出趣」 大膽挑戰尋找旅行新意義\n",
      "給你愛的抱抱 中山大學生耶誕街頭送暖\n",
      "搶救海洋生態 中山大學與UCSD及海生館結盟\n",
      "AI跨域應用 人工智慧數據科學應用論壇登場\n",
      "中山推創作課程 實踐教育戲劇與社會責任\n",
      "諾貝爾和平獎得主「突尼西亞全國四方對話」梅沙悟德・荷穆達尼（Messaoud Romdhani）中山開講\n",
      "俄羅斯科學院訪問中山 促進台俄海洋科學合作\n",
      "展現社會責任 中山大學丑果食物銀行寒冬送暖\n",
      "推材料高值化 中山首辦台日雙邊材料研討會\n",
      "戀愛缺乏安全感？  海苔熊：訊息在語意之外\n",
      "鎮校之寶余光中驟逝 中山師生哀悼追憶\n",
      "高中第二次英聽測驗 中山大學辦試務圓滿順利\n",
      "緬懷永遠的詩人 文學巨擘余光中仙逝\n",
      "「罵的有理就進決策」 中山邀唐鳳談開放政府\n",
      "女力撐起半邊天 行傳所推動性別化創新\n",
      "虛實結合跨境體驗 資管團隊奪資訊競賽首獎\n",
      "廢棄玩具變藝術  中山大學辦打狗舊港文化祭\n",
      "中山大學調查：全台議會網站評比高雄第一\n",
      "自己的5G自己造 中山團隊獲開源軟體程式冠軍\n",
      "為北美鐵路華工發聲 中山攜手史丹佛專書發表\n",
      "為居家健康把關 中山攜手醫產學開發AI技術\n",
      "\n"
     ]
    }
   ],
   "source": [
    "with open(\"NsysuNewsTitle.txt\", 'r') as fp:\n",
    "    result = fp.read()    \n",
    "print(result)"
   ]
  }
 ],
 "metadata": {
  "kernelspec": {
   "display_name": "Python 3",
   "language": "python",
   "name": "python3"
  },
  "language_info": {
   "codemirror_mode": {
    "name": "ipython",
    "version": 3
   },
   "file_extension": ".py",
   "mimetype": "text/x-python",
   "name": "python",
   "nbconvert_exporter": "python",
   "pygments_lexer": "ipython3",
   "version": "3.6.4"
  }
 },
 "nbformat": 4,
 "nbformat_minor": 2
}
