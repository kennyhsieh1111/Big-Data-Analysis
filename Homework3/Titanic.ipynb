{
 "cells": [
  {
   "cell_type": "markdown",
   "metadata": {},
   "source": [
    "Titanic: Machine Learning from Disaster\n",
    "===\n",
    "巨量資料分析導論 Homework 3\n",
    "B036060017 資管四年級 謝威廷, 2018/4/18\n",
    "\n",
    "## Outline\n",
    "1. Data Loading\n",
    "2. Dealing with Missing & Redundant Variable\n",
    "3. Label Categoriacal Variable with One Hot Encoding\n",
    "4. Modeling"
   ]
  },
  {
   "cell_type": "code",
   "execution_count": 6,
   "metadata": {
    "collapsed": true
   },
   "outputs": [],
   "source": [
    "import pandas as pd\n",
    "import numpy as np\n",
    "import matplotlib.pyplot as plt\n",
    "%matplotlib inline\n",
    "\n",
    "seed = 17"
   ]
  },
  {
   "cell_type": "markdown",
   "metadata": {},
   "source": [
    "## 1. Data Loading\n",
    "- After rough observation, select the following features to predict the outcome.\n",
    "- 'Age', 'Pclass', 'Sex', 'SibSp', 'Parch', 'Fare', 'Embarked'"
   ]
  },
  {
   "cell_type": "code",
   "execution_count": 7,
   "metadata": {},
   "outputs": [
    {
     "name": "stdout",
     "output_type": "stream",
     "text": [
      "Train Shape :  (891, 12)  Test Shape :  (418, 11)\n",
      "Full Data Shape :  (1309, 8)\n"
     ]
    },
    {
     "data": {
      "text/html": [
       "<div>\n",
       "<style>\n",
       "    .dataframe thead tr:only-child th {\n",
       "        text-align: right;\n",
       "    }\n",
       "\n",
       "    .dataframe thead th {\n",
       "        text-align: left;\n",
       "    }\n",
       "\n",
       "    .dataframe tbody tr th {\n",
       "        vertical-align: top;\n",
       "    }\n",
       "</style>\n",
       "<table border=\"1\" class=\"dataframe\">\n",
       "  <thead>\n",
       "    <tr style=\"text-align: right;\">\n",
       "      <th></th>\n",
       "      <th>Survived</th>\n",
       "      <th>Age</th>\n",
       "      <th>Pclass</th>\n",
       "      <th>Sex</th>\n",
       "      <th>SibSp</th>\n",
       "      <th>Parch</th>\n",
       "      <th>Fare</th>\n",
       "      <th>Embarked</th>\n",
       "    </tr>\n",
       "  </thead>\n",
       "  <tbody>\n",
       "    <tr>\n",
       "      <th>0</th>\n",
       "      <td>0.0</td>\n",
       "      <td>22.0</td>\n",
       "      <td>3</td>\n",
       "      <td>male</td>\n",
       "      <td>1</td>\n",
       "      <td>0</td>\n",
       "      <td>7.2500</td>\n",
       "      <td>S</td>\n",
       "    </tr>\n",
       "    <tr>\n",
       "      <th>1</th>\n",
       "      <td>1.0</td>\n",
       "      <td>38.0</td>\n",
       "      <td>1</td>\n",
       "      <td>female</td>\n",
       "      <td>1</td>\n",
       "      <td>0</td>\n",
       "      <td>71.2833</td>\n",
       "      <td>C</td>\n",
       "    </tr>\n",
       "    <tr>\n",
       "      <th>2</th>\n",
       "      <td>1.0</td>\n",
       "      <td>26.0</td>\n",
       "      <td>3</td>\n",
       "      <td>female</td>\n",
       "      <td>0</td>\n",
       "      <td>0</td>\n",
       "      <td>7.9250</td>\n",
       "      <td>S</td>\n",
       "    </tr>\n",
       "    <tr>\n",
       "      <th>3</th>\n",
       "      <td>1.0</td>\n",
       "      <td>35.0</td>\n",
       "      <td>1</td>\n",
       "      <td>female</td>\n",
       "      <td>1</td>\n",
       "      <td>0</td>\n",
       "      <td>53.1000</td>\n",
       "      <td>S</td>\n",
       "    </tr>\n",
       "    <tr>\n",
       "      <th>4</th>\n",
       "      <td>0.0</td>\n",
       "      <td>35.0</td>\n",
       "      <td>3</td>\n",
       "      <td>male</td>\n",
       "      <td>0</td>\n",
       "      <td>0</td>\n",
       "      <td>8.0500</td>\n",
       "      <td>S</td>\n",
       "    </tr>\n",
       "  </tbody>\n",
       "</table>\n",
       "</div>"
      ],
      "text/plain": [
       "   Survived   Age  Pclass     Sex  SibSp  Parch     Fare Embarked\n",
       "0       0.0  22.0       3    male      1      0   7.2500        S\n",
       "1       1.0  38.0       1  female      1      0  71.2833        C\n",
       "2       1.0  26.0       3  female      0      0   7.9250        S\n",
       "3       1.0  35.0       1  female      1      0  53.1000        S\n",
       "4       0.0  35.0       3    male      0      0   8.0500        S"
      ]
     },
     "execution_count": 7,
     "metadata": {},
     "output_type": "execute_result"
    }
   ],
   "source": [
    "train = pd.read_csv('titanic/train.csv')\n",
    "test = pd.read_csv('titanic/test.csv')\n",
    "data = pd.concat([train, test], axis = 0)\n",
    "\n",
    "test_id = data.iloc[train.shape[0]:, 6]\n",
    "data = data.drop([\"PassengerId\"], axis = 1)\n",
    "\n",
    "selected_features = ['Survived', 'Age', 'Pclass', 'Sex', 'SibSp', 'Parch', 'Fare', 'Embarked']\n",
    "data = data.loc[:, selected_features]\n",
    "\n",
    "print(\"Train Shape : \", train.shape, \" Test Shape : \", test.shape )\n",
    "print(\"Full Data Shape : \", data.shape)\n",
    "data.head()"
   ]
  },
  {
   "cell_type": "markdown",
   "metadata": {},
   "source": [
    "## 2. Dealing with Missing & Redundant Variable"
   ]
  },
  {
   "cell_type": "code",
   "execution_count": 8,
   "metadata": {},
   "outputs": [
    {
     "data": {
      "text/plain": [
       "Survived    418\n",
       "Age         263\n",
       "Pclass        0\n",
       "Sex           0\n",
       "SibSp         0\n",
       "Parch         0\n",
       "Fare          1\n",
       "Embarked      2\n",
       "dtype: int64"
      ]
     },
     "execution_count": 8,
     "metadata": {},
     "output_type": "execute_result"
    }
   ],
   "source": [
    "data.isnull().sum()"
   ]
  },
  {
   "cell_type": "markdown",
   "metadata": {},
   "source": [
    "### 2.1 Embarked & Fare\n",
    "- `Embarked` : Only 2 missing values, fill with most frequent value `S`.\n",
    "- `Fare`: Only 1 missing value, fill with the average of whole `Fare` value."
   ]
  },
  {
   "cell_type": "code",
   "execution_count": 9,
   "metadata": {},
   "outputs": [
    {
     "name": "stdout",
     "output_type": "stream",
     "text": [
      "S    914\n",
      "C    270\n",
      "Q    123\n",
      "Name: Embarked, dtype: int64\n"
     ]
    }
   ],
   "source": [
    "print(data['Embarked'].value_counts())\n",
    "data['Embarked'] = data['Embarked'].fillna('S')\n",
    "data['Fare'] = data['Fare'].fillna(data['Fare'].mean())"
   ]
  },
  {
   "cell_type": "markdown",
   "metadata": {},
   "source": [
    "### 2.2 Age\n",
    "- Using RandomForest with other features to impute the missing value."
   ]
  },
  {
   "cell_type": "code",
   "execution_count": 10,
   "metadata": {},
   "outputs": [
    {
     "name": "stdout",
     "output_type": "stream",
     "text": [
      "Random Forest impute Age MSE : 1.0\n"
     ]
    }
   ],
   "source": [
    "from sklearn.ensemble import RandomForestRegressor\n",
    "\n",
    "age_data = data.loc[:, data.dtypes!=\"object\"]\n",
    "age_data = age_data.drop([\"Survived\"], axis = 1)\n",
    "# Train\n",
    "age_complete = age_data[(age_data[\"Age\"].notnull())]\n",
    "# Test\n",
    "age_incomplete = age_data[(age_data[\"Age\"].isnull())]\n",
    "\n",
    "X_train_age = age_complete.iloc[:, 1:]\n",
    "y_train_age = age_complete.iloc[:, 1]\n",
    "\n",
    "model_rf_age = RandomForestRegressor(n_estimators=1000, oob_score = True, n_jobs = -1, random_state = seed)\n",
    "model_rf_age.fit(X_train_age, y_train_age)\n",
    "pred_age = model_rf_age.predict(age_incomplete.iloc[:, 1:])\n",
    "data.loc[data[\"Age\"].isnull(), [\"Age\"]] = pred_age\n",
    "print(\"Random Forest impute Age MSE :\", model_rf_age.oob_score_)"
   ]
  },
  {
   "cell_type": "markdown",
   "metadata": {},
   "source": [
    "## 3. Label Categoriacal Variable with One Hot Encoding"
   ]
  },
  {
   "cell_type": "code",
   "execution_count": 11,
   "metadata": {},
   "outputs": [
    {
     "name": "stdout",
     "output_type": "stream",
     "text": [
      "(1309, 11)\n"
     ]
    },
    {
     "data": {
      "text/html": [
       "<div>\n",
       "<style>\n",
       "    .dataframe thead tr:only-child th {\n",
       "        text-align: right;\n",
       "    }\n",
       "\n",
       "    .dataframe thead th {\n",
       "        text-align: left;\n",
       "    }\n",
       "\n",
       "    .dataframe tbody tr th {\n",
       "        vertical-align: top;\n",
       "    }\n",
       "</style>\n",
       "<table border=\"1\" class=\"dataframe\">\n",
       "  <thead>\n",
       "    <tr style=\"text-align: right;\">\n",
       "      <th></th>\n",
       "      <th>Survived</th>\n",
       "      <th>Age</th>\n",
       "      <th>Pclass</th>\n",
       "      <th>SibSp</th>\n",
       "      <th>Parch</th>\n",
       "      <th>Fare</th>\n",
       "      <th>Sex_female</th>\n",
       "      <th>Sex_male</th>\n",
       "      <th>Embarked_C</th>\n",
       "      <th>Embarked_Q</th>\n",
       "      <th>Embarked_S</th>\n",
       "    </tr>\n",
       "  </thead>\n",
       "  <tbody>\n",
       "    <tr>\n",
       "      <th>0</th>\n",
       "      <td>0.0</td>\n",
       "      <td>22.0</td>\n",
       "      <td>3</td>\n",
       "      <td>1</td>\n",
       "      <td>0</td>\n",
       "      <td>7.2500</td>\n",
       "      <td>0</td>\n",
       "      <td>1</td>\n",
       "      <td>0</td>\n",
       "      <td>0</td>\n",
       "      <td>1</td>\n",
       "    </tr>\n",
       "    <tr>\n",
       "      <th>1</th>\n",
       "      <td>1.0</td>\n",
       "      <td>38.0</td>\n",
       "      <td>1</td>\n",
       "      <td>1</td>\n",
       "      <td>0</td>\n",
       "      <td>71.2833</td>\n",
       "      <td>1</td>\n",
       "      <td>0</td>\n",
       "      <td>1</td>\n",
       "      <td>0</td>\n",
       "      <td>0</td>\n",
       "    </tr>\n",
       "    <tr>\n",
       "      <th>2</th>\n",
       "      <td>1.0</td>\n",
       "      <td>26.0</td>\n",
       "      <td>3</td>\n",
       "      <td>0</td>\n",
       "      <td>0</td>\n",
       "      <td>7.9250</td>\n",
       "      <td>1</td>\n",
       "      <td>0</td>\n",
       "      <td>0</td>\n",
       "      <td>0</td>\n",
       "      <td>1</td>\n",
       "    </tr>\n",
       "    <tr>\n",
       "      <th>3</th>\n",
       "      <td>1.0</td>\n",
       "      <td>35.0</td>\n",
       "      <td>1</td>\n",
       "      <td>1</td>\n",
       "      <td>0</td>\n",
       "      <td>53.1000</td>\n",
       "      <td>1</td>\n",
       "      <td>0</td>\n",
       "      <td>0</td>\n",
       "      <td>0</td>\n",
       "      <td>1</td>\n",
       "    </tr>\n",
       "    <tr>\n",
       "      <th>4</th>\n",
       "      <td>0.0</td>\n",
       "      <td>35.0</td>\n",
       "      <td>3</td>\n",
       "      <td>0</td>\n",
       "      <td>0</td>\n",
       "      <td>8.0500</td>\n",
       "      <td>0</td>\n",
       "      <td>1</td>\n",
       "      <td>0</td>\n",
       "      <td>0</td>\n",
       "      <td>1</td>\n",
       "    </tr>\n",
       "  </tbody>\n",
       "</table>\n",
       "</div>"
      ],
      "text/plain": [
       "   Survived   Age  Pclass  SibSp  Parch     Fare  Sex_female  Sex_male  \\\n",
       "0       0.0  22.0       3      1      0   7.2500           0         1   \n",
       "1       1.0  38.0       1      1      0  71.2833           1         0   \n",
       "2       1.0  26.0       3      0      0   7.9250           1         0   \n",
       "3       1.0  35.0       1      1      0  53.1000           1         0   \n",
       "4       0.0  35.0       3      0      0   8.0500           0         1   \n",
       "\n",
       "   Embarked_C  Embarked_Q  Embarked_S  \n",
       "0           0           0           1  \n",
       "1           1           0           0  \n",
       "2           0           0           1  \n",
       "3           0           0           1  \n",
       "4           0           0           1  "
      ]
     },
     "execution_count": 11,
     "metadata": {},
     "output_type": "execute_result"
    }
   ],
   "source": [
    "data_ohe = pd.get_dummies(data)\n",
    "print(data_ohe.shape)\n",
    "data_ohe.head()"
   ]
  },
  {
   "cell_type": "code",
   "execution_count": 12,
   "metadata": {},
   "outputs": [
    {
     "name": "stdout",
     "output_type": "stream",
     "text": [
      "Train Shape :  (891, 11)  Test Shape :  (418, 11)\n"
     ]
    }
   ],
   "source": [
    "train = data_ohe.iloc[:train.shape[0], :]\n",
    "test = data_ohe.iloc[train.shape[0]:, :]\n",
    "\n",
    "y_train = train.loc[:, \"Survived\"].astype(\"int\")\n",
    "X_train = train.drop([\"Survived\"], axis = 1)\n",
    "X_test = test.drop([\"Survived\"], axis = 1)\n",
    "print(\"Train Shape : \", train.shape, \" Test Shape : \", test.shape )"
   ]
  },
  {
   "cell_type": "markdown",
   "metadata": {},
   "source": [
    "## 4. Model Training\n",
    "### Auxiliary Function \n",
    "- Observe the prediction outcome through CrossValidation, ConfusionMatrix"
   ]
  },
  {
   "cell_type": "code",
   "execution_count": 81,
   "metadata": {
    "collapsed": true
   },
   "outputs": [],
   "source": [
    "from sklearn.model_selection import cross_val_score, cross_val_predict\n",
    "from sklearn.metrics import confusion_matrix, classification_report\n",
    "\n",
    "def show_clf_result(model_name, X_train, y_train):\n",
    "    scores = cross_val_score(eclf, X_train, y_train, cv=5, scoring='accuracy')\n",
    "    pred = cross_val_predict(eclf, X_train, y_train, cv=5)\n",
    "    cm = confusion_matrix(y_train, pred)\n",
    "    report = classification_report(y_train, pred)\n",
    "    \n",
    "    print(\"%s Classification Report\" %model_name, \"\\n\")\n",
    "    print(\"3 Cross Validation Accuracy: %0.2f (+/- %0.2f)\" % (scores.mean(), scores.std()))\n",
    "    print(\"Confusion Matrix\\n\", cm, \"\\n\")\n",
    "    print('Classification Metrics\\n', report)"
   ]
  },
  {
   "cell_type": "markdown",
   "metadata": {},
   "source": [
    "### 4.1 XGBoost"
   ]
  },
  {
   "cell_type": "code",
   "execution_count": 82,
   "metadata": {},
   "outputs": [
    {
     "name": "stdout",
     "output_type": "stream",
     "text": [
      "XGBClassifier(base_score=0.5, booster='gbtree', colsample_bylevel=1,\n",
      "       colsample_bytree=1, gamma=0, learning_rate=0.1, max_delta_step=0,\n",
      "       max_depth=3, min_child_weight=1, missing=None, n_estimators=100,\n",
      "       n_jobs=1, nthread=None, objective='binary:logistic',\n",
      "       random_state=17, reg_alpha=0, reg_lambda=1, scale_pos_weight=1,\n",
      "       seed=None, silent=True, subsample=1) Classification Report \n",
      "\n",
      "3 Cross Validation Accuracy: 0.82 (+/- 0.02)\n",
      "Confusion Matrix\n",
      " [[487  62]\n",
      " [ 99 243]] \n",
      "\n",
      "Classification Metrics\n",
      "              precision    recall  f1-score   support\n",
      "\n",
      "          0       0.83      0.89      0.86       549\n",
      "          1       0.80      0.71      0.75       342\n",
      "\n",
      "avg / total       0.82      0.82      0.82       891\n",
      "\n"
     ]
    }
   ],
   "source": [
    "from xgboost import XGBClassifier\n",
    "\n",
    "model_xgb = XGBClassifier(random_state=seed)\n",
    "model_xgb.fit(X_train, y_train)\n",
    "show_clf_result(model_xgb, X_train, y_train)"
   ]
  },
  {
   "cell_type": "code",
   "execution_count": 83,
   "metadata": {
    "collapsed": true
   },
   "outputs": [],
   "source": [
    "submission = pd.DataFrame({\"PassengerId\" : test_id, \n",
    "                           \"Survived\" : model_xgb.predict(X_test)})\n",
    "submission.to_csv(\"XGB_subm.csv\", index = False)"
   ]
  },
  {
   "cell_type": "markdown",
   "metadata": {},
   "source": [
    "### 4.2 Ensemble Major Voting with XGBoost & RandomForest"
   ]
  },
  {
   "cell_type": "code",
   "execution_count": 86,
   "metadata": {},
   "outputs": [
    {
     "name": "stdout",
     "output_type": "stream",
     "text": [
      "EnsembleVoteClassifier(clfs=[XGBClassifier(base_score=0.5, booster='gbtree', colsample_bylevel=1,\n",
      "       colsample_bytree=1, gamma=0, learning_rate=0.1, max_delta_step=0,\n",
      "       max_depth=3, min_child_weight=1, missing=None, n_estimators=100,\n",
      "       n_jobs=1, nthread=None, objective='binary:logistic',\n",
      "       random_state=...estimators=10, n_jobs=1,\n",
      "            oob_score=False, random_state=17, verbose=0, warm_start=False)],\n",
      "            refit=True, verbose=0, voting='soft', weights=None) Classification Report \n",
      "\n",
      "3 Cross Validation Accuracy: 0.82 (+/- 0.02)\n",
      "Confusion Matrix\n",
      " [[487  62]\n",
      " [ 99 243]] \n",
      "\n",
      "Classification Metrics\n",
      "              precision    recall  f1-score   support\n",
      "\n",
      "          0       0.83      0.89      0.86       549\n",
      "          1       0.80      0.71      0.75       342\n",
      "\n",
      "avg / total       0.82      0.82      0.82       891\n",
      "\n"
     ]
    }
   ],
   "source": [
    "from xgboost import XGBClassifier\n",
    "from sklearn.ensemble import RandomForestClassifier\n",
    "from mlxtend.classifier import EnsembleVoteClassifier\n",
    "\n",
    "clf1 = XGBClassifier(random_state=seed)\n",
    "clf2 = RandomForestClassifier(random_state=seed)\n",
    "eclf = EnsembleVoteClassifier(clfs=[clf1, clf2], voting='soft')\n",
    "\n",
    "eclf.fit(X_train, y_train)\n",
    "show_clf_result(eclf, X_train, y_train)"
   ]
  },
  {
   "cell_type": "code",
   "execution_count": 87,
   "metadata": {
    "collapsed": true
   },
   "outputs": [],
   "source": [
    "submission = pd.DataFrame({\"PassengerId\" : test_id, \n",
    "                           \"Survived\" : eclf.predict(X_test)})\n",
    "submission.to_csv(\"ENS_subm.csv\", index = False)"
   ]
  },
  {
   "cell_type": "markdown",
   "metadata": {},
   "source": [
    "## TPOT : Tree-based Pipeline Optimization"
   ]
  },
  {
   "cell_type": "code",
   "execution_count": null,
   "metadata": {},
   "outputs": [
    {
     "name": "stderr",
     "output_type": "stream",
     "text": [
      "Optimization Progress:  33%|███▎      | 200/600 [01:21<03:03,  2.18pipeline/s]"
     ]
    },
    {
     "name": "stdout",
     "output_type": "stream",
     "text": [
      "Generation 1 - Current best internal CV score: 0.8395372771063914\n"
     ]
    },
    {
     "name": "stderr",
     "output_type": "stream",
     "text": [
      "Optimization Progress:  50%|█████     | 300/600 [02:32<02:49,  1.77pipeline/s]"
     ]
    },
    {
     "name": "stdout",
     "output_type": "stream",
     "text": [
      "Generation 2 - Current best internal CV score: 0.8395372771063914\n"
     ]
    },
    {
     "name": "stderr",
     "output_type": "stream",
     "text": [
      "Optimization Progress:  67%|██████▋   | 400/600 [03:41<01:23,  2.38pipeline/s]"
     ]
    },
    {
     "name": "stdout",
     "output_type": "stream",
     "text": [
      "Generation 3 - Current best internal CV score: 0.8395372771063914\n"
     ]
    },
    {
     "name": "stderr",
     "output_type": "stream",
     "text": [
      "Optimization Progress:  83%|████████▎ | 500/600 [06:02<01:46,  1.07s/pipeline]"
     ]
    },
    {
     "name": "stdout",
     "output_type": "stream",
     "text": [
      "Generation 4 - Current best internal CV score: 0.8395372771063914\n"
     ]
    },
    {
     "name": "stderr",
     "output_type": "stream",
     "text": [
      "Optimization Progress:  85%|████████▌ | 511/600 [06:28<01:48,  1.22s/pipeline]"
     ]
    }
   ],
   "source": [
    "#!pip install tpot\n",
    "from tpot import TPOTClassifier\n",
    "\n",
    "tpot = TPOTClassifier(generations = 5, population_size = 100, verbosity = 2)\n",
    "tpot.fit(X_train, y_train)\n",
    "print(tpot.score(X_test, y_test))\n",
    "tpot.export('tpot_titanic_pipeline.py')"
   ]
  }
 ],
 "metadata": {
  "kernelspec": {
   "display_name": "Python 3",
   "language": "python",
   "name": "python3"
  },
  "language_info": {
   "codemirror_mode": {
    "name": "ipython",
    "version": 3
   },
   "file_extension": ".py",
   "mimetype": "text/x-python",
   "name": "python",
   "nbconvert_exporter": "python",
   "pygments_lexer": "ipython3",
   "version": "3.6.4"
  }
 },
 "nbformat": 4,
 "nbformat_minor": 2
}
