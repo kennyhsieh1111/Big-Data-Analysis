{
 "cells": [
  {
   "cell_type": "markdown",
   "metadata": {},
   "source": [
    "Titanic: Machine Learning from Disaster\n",
    "===\n",
    "巨量資料分析導論 Homework 5\n",
    "B036060017 資管四年級 謝威廷, 2018/6/3\n",
    "\n",
    "## Outline\n",
    "1. Data Loading\n",
    "2. Data Preprocessing\n",
    "3. Modeling\n",
    "4. Evaluation"
   ]
  },
  {
   "cell_type": "code",
   "execution_count": 1,
   "metadata": {
    "collapsed": true
   },
   "outputs": [],
   "source": [
    "import pandas as pd\n",
    "import numpy as np\n",
    "import matplotlib.pyplot as plt\n",
    "%matplotlib inline\n",
    "\n",
    "seed = 17"
   ]
  },
  {
   "cell_type": "markdown",
   "metadata": {},
   "source": [
    "## 1. Data Loading\n",
    "- After rough observation, select the following features to predict the outcome.\n",
    "- 'Age', 'Pclass', 'Sex', 'SibSp', 'Parch', 'Fare', 'Embarked'"
   ]
  },
  {
   "cell_type": "code",
   "execution_count": 2,
   "metadata": {},
   "outputs": [
    {
     "name": "stdout",
     "output_type": "stream",
     "text": [
      "Train Shape :  (891, 12)  Test Shape :  (418, 11)\n",
      "Full Data Shape :  (1309, 8)\n"
     ]
    },
    {
     "data": {
      "text/html": [
       "<div>\n",
       "<style>\n",
       "    .dataframe thead tr:only-child th {\n",
       "        text-align: right;\n",
       "    }\n",
       "\n",
       "    .dataframe thead th {\n",
       "        text-align: left;\n",
       "    }\n",
       "\n",
       "    .dataframe tbody tr th {\n",
       "        vertical-align: top;\n",
       "    }\n",
       "</style>\n",
       "<table border=\"1\" class=\"dataframe\">\n",
       "  <thead>\n",
       "    <tr style=\"text-align: right;\">\n",
       "      <th></th>\n",
       "      <th>Survived</th>\n",
       "      <th>Age</th>\n",
       "      <th>Pclass</th>\n",
       "      <th>Sex</th>\n",
       "      <th>SibSp</th>\n",
       "      <th>Parch</th>\n",
       "      <th>Fare</th>\n",
       "      <th>Embarked</th>\n",
       "    </tr>\n",
       "  </thead>\n",
       "  <tbody>\n",
       "    <tr>\n",
       "      <th>0</th>\n",
       "      <td>0.0</td>\n",
       "      <td>22.0</td>\n",
       "      <td>3</td>\n",
       "      <td>male</td>\n",
       "      <td>1</td>\n",
       "      <td>0</td>\n",
       "      <td>7.2500</td>\n",
       "      <td>S</td>\n",
       "    </tr>\n",
       "    <tr>\n",
       "      <th>1</th>\n",
       "      <td>1.0</td>\n",
       "      <td>38.0</td>\n",
       "      <td>1</td>\n",
       "      <td>female</td>\n",
       "      <td>1</td>\n",
       "      <td>0</td>\n",
       "      <td>71.2833</td>\n",
       "      <td>C</td>\n",
       "    </tr>\n",
       "    <tr>\n",
       "      <th>2</th>\n",
       "      <td>1.0</td>\n",
       "      <td>26.0</td>\n",
       "      <td>3</td>\n",
       "      <td>female</td>\n",
       "      <td>0</td>\n",
       "      <td>0</td>\n",
       "      <td>7.9250</td>\n",
       "      <td>S</td>\n",
       "    </tr>\n",
       "    <tr>\n",
       "      <th>3</th>\n",
       "      <td>1.0</td>\n",
       "      <td>35.0</td>\n",
       "      <td>1</td>\n",
       "      <td>female</td>\n",
       "      <td>1</td>\n",
       "      <td>0</td>\n",
       "      <td>53.1000</td>\n",
       "      <td>S</td>\n",
       "    </tr>\n",
       "    <tr>\n",
       "      <th>4</th>\n",
       "      <td>0.0</td>\n",
       "      <td>35.0</td>\n",
       "      <td>3</td>\n",
       "      <td>male</td>\n",
       "      <td>0</td>\n",
       "      <td>0</td>\n",
       "      <td>8.0500</td>\n",
       "      <td>S</td>\n",
       "    </tr>\n",
       "  </tbody>\n",
       "</table>\n",
       "</div>"
      ],
      "text/plain": [
       "   Survived   Age  Pclass     Sex  SibSp  Parch     Fare Embarked\n",
       "0       0.0  22.0       3    male      1      0   7.2500        S\n",
       "1       1.0  38.0       1  female      1      0  71.2833        C\n",
       "2       1.0  26.0       3  female      0      0   7.9250        S\n",
       "3       1.0  35.0       1  female      1      0  53.1000        S\n",
       "4       0.0  35.0       3    male      0      0   8.0500        S"
      ]
     },
     "execution_count": 2,
     "metadata": {},
     "output_type": "execute_result"
    }
   ],
   "source": [
    "train = pd.read_csv('titanic/train.csv')\n",
    "test = pd.read_csv('titanic/test.csv')\n",
    "data = pd.concat([train, test], axis = 0)\n",
    "\n",
    "test_id = data.iloc[train.shape[0]:, 6]\n",
    "data = data.drop([\"PassengerId\"], axis = 1)\n",
    "\n",
    "selected_features = ['Survived', 'Age', 'Pclass', 'Sex', 'SibSp', 'Parch', 'Fare', 'Embarked']\n",
    "data = data.loc[:, selected_features]\n",
    "\n",
    "print(\"Train Shape : \", train.shape, \" Test Shape : \", test.shape )\n",
    "print(\"Full Data Shape : \", data.shape)\n",
    "data.head()"
   ]
  },
  {
   "cell_type": "markdown",
   "metadata": {},
   "source": [
    "## 2. Data Preprocessing \n",
    "### 2.1 Dealing with Missing & Redundant Variable\n",
    "- `Embarked` : Only 2 missing values, fill with most frequent value `S`.\n",
    "- `Fare`: Only 1 missing value, fill with the average of whole `Fare` value.\n",
    "- `Age` : Impute missing value with average age."
   ]
  },
  {
   "cell_type": "code",
   "execution_count": 3,
   "metadata": {},
   "outputs": [
    {
     "data": {
      "text/plain": [
       "Survived    418\n",
       "Age         263\n",
       "Pclass        0\n",
       "Sex           0\n",
       "SibSp         0\n",
       "Parch         0\n",
       "Fare          1\n",
       "Embarked      2\n",
       "dtype: int64"
      ]
     },
     "execution_count": 3,
     "metadata": {},
     "output_type": "execute_result"
    }
   ],
   "source": [
    "data.isnull().sum()"
   ]
  },
  {
   "cell_type": "code",
   "execution_count": 4,
   "metadata": {},
   "outputs": [
    {
     "name": "stdout",
     "output_type": "stream",
     "text": [
      "S    914\n",
      "C    270\n",
      "Q    123\n",
      "Name: Embarked, dtype: int64\n"
     ]
    }
   ],
   "source": [
    "print(data['Embarked'].value_counts())\n",
    "data['Embarked'] = data['Embarked'].fillna('S')\n",
    "data['Fare'] = data['Fare'].fillna(data['Fare'].mean())\n",
    "data['Age'] = data['Age'].fillna(data['Age'].mean())"
   ]
  },
  {
   "cell_type": "markdown",
   "metadata": {},
   "source": [
    "### 2.2 Categorical Variable with One Hot Encoding\n",
    "- `Sex` : transform nominal to numeric integer value.\n",
    "- `Embarked` : One Hot Encoding"
   ]
  },
  {
   "cell_type": "code",
   "execution_count": 5,
   "metadata": {},
   "outputs": [
    {
     "name": "stdout",
     "output_type": "stream",
     "text": [
      "(1309, 10)\n"
     ]
    },
    {
     "data": {
      "text/html": [
       "<div>\n",
       "<style>\n",
       "    .dataframe thead tr:only-child th {\n",
       "        text-align: right;\n",
       "    }\n",
       "\n",
       "    .dataframe thead th {\n",
       "        text-align: left;\n",
       "    }\n",
       "\n",
       "    .dataframe tbody tr th {\n",
       "        vertical-align: top;\n",
       "    }\n",
       "</style>\n",
       "<table border=\"1\" class=\"dataframe\">\n",
       "  <thead>\n",
       "    <tr style=\"text-align: right;\">\n",
       "      <th></th>\n",
       "      <th>Survived</th>\n",
       "      <th>Age</th>\n",
       "      <th>Pclass</th>\n",
       "      <th>Sex</th>\n",
       "      <th>SibSp</th>\n",
       "      <th>Parch</th>\n",
       "      <th>Fare</th>\n",
       "      <th>Embarked_C</th>\n",
       "      <th>Embarked_Q</th>\n",
       "      <th>Embarked_S</th>\n",
       "    </tr>\n",
       "  </thead>\n",
       "  <tbody>\n",
       "    <tr>\n",
       "      <th>0</th>\n",
       "      <td>0.0</td>\n",
       "      <td>22.0</td>\n",
       "      <td>3</td>\n",
       "      <td>1</td>\n",
       "      <td>1</td>\n",
       "      <td>0</td>\n",
       "      <td>7.2500</td>\n",
       "      <td>0</td>\n",
       "      <td>0</td>\n",
       "      <td>1</td>\n",
       "    </tr>\n",
       "    <tr>\n",
       "      <th>1</th>\n",
       "      <td>1.0</td>\n",
       "      <td>38.0</td>\n",
       "      <td>1</td>\n",
       "      <td>0</td>\n",
       "      <td>1</td>\n",
       "      <td>0</td>\n",
       "      <td>71.2833</td>\n",
       "      <td>1</td>\n",
       "      <td>0</td>\n",
       "      <td>0</td>\n",
       "    </tr>\n",
       "    <tr>\n",
       "      <th>2</th>\n",
       "      <td>1.0</td>\n",
       "      <td>26.0</td>\n",
       "      <td>3</td>\n",
       "      <td>0</td>\n",
       "      <td>0</td>\n",
       "      <td>0</td>\n",
       "      <td>7.9250</td>\n",
       "      <td>0</td>\n",
       "      <td>0</td>\n",
       "      <td>1</td>\n",
       "    </tr>\n",
       "    <tr>\n",
       "      <th>3</th>\n",
       "      <td>1.0</td>\n",
       "      <td>35.0</td>\n",
       "      <td>1</td>\n",
       "      <td>0</td>\n",
       "      <td>1</td>\n",
       "      <td>0</td>\n",
       "      <td>53.1000</td>\n",
       "      <td>0</td>\n",
       "      <td>0</td>\n",
       "      <td>1</td>\n",
       "    </tr>\n",
       "    <tr>\n",
       "      <th>4</th>\n",
       "      <td>0.0</td>\n",
       "      <td>35.0</td>\n",
       "      <td>3</td>\n",
       "      <td>1</td>\n",
       "      <td>0</td>\n",
       "      <td>0</td>\n",
       "      <td>8.0500</td>\n",
       "      <td>0</td>\n",
       "      <td>0</td>\n",
       "      <td>1</td>\n",
       "    </tr>\n",
       "  </tbody>\n",
       "</table>\n",
       "</div>"
      ],
      "text/plain": [
       "   Survived   Age  Pclass  Sex  SibSp  Parch     Fare  Embarked_C  Embarked_Q  \\\n",
       "0       0.0  22.0       3    1      1      0   7.2500           0           0   \n",
       "1       1.0  38.0       1    0      1      0  71.2833           1           0   \n",
       "2       1.0  26.0       3    0      0      0   7.9250           0           0   \n",
       "3       1.0  35.0       1    0      1      0  53.1000           0           0   \n",
       "4       0.0  35.0       3    1      0      0   8.0500           0           0   \n",
       "\n",
       "   Embarked_S  \n",
       "0           1  \n",
       "1           0  \n",
       "2           1  \n",
       "3           1  \n",
       "4           1  "
      ]
     },
     "execution_count": 5,
     "metadata": {},
     "output_type": "execute_result"
    }
   ],
   "source": [
    "data['Sex'] = data['Sex'].map({'female': 0, 'male': 1}).astype(int)\n",
    "\n",
    "data_ohe = pd.get_dummies(data)\n",
    "print(data_ohe.shape)\n",
    "data_ohe.head()"
   ]
  },
  {
   "cell_type": "markdown",
   "metadata": {},
   "source": [
    "### 2.3 Min-Max Scaler"
   ]
  },
  {
   "cell_type": "code",
   "execution_count": 6,
   "metadata": {
    "collapsed": true
   },
   "outputs": [],
   "source": [
    "from sklearn.preprocessing import MinMaxScaler\n",
    "\n",
    "minmax_sc = MinMaxScaler(feature_range=(0, 1))\n",
    "data_scale = pd.DataFrame(minmax_sc.fit_transform(data_ohe.iloc[:, 1:]))"
   ]
  },
  {
   "cell_type": "markdown",
   "metadata": {},
   "source": [
    "### 2.4 Split to Training and Testing Dataset"
   ]
  },
  {
   "cell_type": "code",
   "execution_count": 7,
   "metadata": {},
   "outputs": [
    {
     "name": "stdout",
     "output_type": "stream",
     "text": [
      "Train Shape :  (891, 9)  Test Shape :  (418, 9)\n"
     ]
    }
   ],
   "source": [
    "x_train = np.array(data_scale.iloc[:train.shape[0], :])\n",
    "y_train = np.array(data_ohe.iloc[:train.shape[0], 0])\n",
    "\n",
    "x_test = np.array(data_scale.iloc[train.shape[0]:, :])\n",
    "print(\"Train Shape : \", x_train.shape, \" Test Shape : \", x_test.shape )"
   ]
  },
  {
   "cell_type": "markdown",
   "metadata": {},
   "source": [
    "## 3. Model Training"
   ]
  },
  {
   "cell_type": "code",
   "execution_count": 8,
   "metadata": {},
   "outputs": [
    {
     "name": "stderr",
     "output_type": "stream",
     "text": [
      "Using TensorFlow backend.\n"
     ]
    }
   ],
   "source": [
    "from keras.models import Sequential\n",
    "from keras.layers import Dense, Dropout\n",
    "from keras.callbacks import EarlyStopping\n",
    "from keras.wrappers.scikit_learn import KerasClassifier\n",
    "\n",
    "def nn_model():\n",
    "    model = Sequential()\n",
    "    model.add(Dense(units=50, input_dim=9, kernel_initializer='uniform', activation='relu'))\n",
    "    model.add(Dropout(0.25))\n",
    "\n",
    "    model.add(Dense(units=30, kernel_initializer='normal', activation='relu'))\n",
    "    model.add(Dropout(0.25))\n",
    "\n",
    "    model.add(Dense(units=10, kernel_initializer='normal', activation='relu'))\n",
    "    model.add(Dropout(0.25))\n",
    "\n",
    "    model.add(Dense(units=1, kernel_initializer='normal', activation='sigmoid'))\n",
    "\n",
    "    model.compile(loss='binary_crossentropy',\n",
    "                  optimizer='adam',\n",
    "                  metrics=['accuracy'])\n",
    "    return model"
   ]
  },
  {
   "cell_type": "code",
   "execution_count": 9,
   "metadata": {},
   "outputs": [
    {
     "name": "stdout",
     "output_type": "stream",
     "text": [
      "Train on 801 samples, validate on 90 samples\n",
      "Epoch 1/70\n",
      "801/801 [==============================] - 1s 936us/step - loss: 0.6920 - acc: 0.6105 - val_loss: 0.6903 - val_acc: 0.6222\n",
      "Epoch 2/70\n",
      "801/801 [==============================] - 0s 132us/step - loss: 0.6892 - acc: 0.6155 - val_loss: 0.6857 - val_acc: 0.6222\n",
      "Epoch 3/70\n",
      "801/801 [==============================] - 0s 94us/step - loss: 0.6809 - acc: 0.6292 - val_loss: 0.6670 - val_acc: 0.6667\n",
      "Epoch 4/70\n",
      "801/801 [==============================] - 0s 90us/step - loss: 0.6531 - acc: 0.6966 - val_loss: 0.6122 - val_acc: 0.8111\n",
      "Epoch 5/70\n",
      "801/801 [==============================] - 0s 94us/step - loss: 0.5972 - acc: 0.7615 - val_loss: 0.5500 - val_acc: 0.7667\n",
      "Epoch 6/70\n",
      "801/801 [==============================] - 0s 93us/step - loss: 0.5403 - acc: 0.7853 - val_loss: 0.4909 - val_acc: 0.7778\n",
      "Epoch 7/70\n",
      "801/801 [==============================] - 0s 197us/step - loss: 0.5411 - acc: 0.7828 - val_loss: 0.4737 - val_acc: 0.7889\n",
      "Epoch 8/70\n",
      "801/801 [==============================] - 0s 200us/step - loss: 0.5106 - acc: 0.7828 - val_loss: 0.4580 - val_acc: 0.7889\n",
      "Epoch 9/70\n",
      "801/801 [==============================] - 0s 168us/step - loss: 0.5020 - acc: 0.7990 - val_loss: 0.4578 - val_acc: 0.7889\n",
      "Epoch 10/70\n",
      "801/801 [==============================] - 0s 249us/step - loss: 0.5165 - acc: 0.7903 - val_loss: 0.4487 - val_acc: 0.8000\n",
      "Epoch 11/70\n",
      "801/801 [==============================] - 0s 191us/step - loss: 0.4984 - acc: 0.7953 - val_loss: 0.4527 - val_acc: 0.7889\n",
      "Epoch 12/70\n",
      "801/801 [==============================] - 0s 137us/step - loss: 0.4817 - acc: 0.8065 - val_loss: 0.4439 - val_acc: 0.8000\n",
      "Epoch 13/70\n",
      "801/801 [==============================] - 0s 117us/step - loss: 0.5041 - acc: 0.8090 - val_loss: 0.4510 - val_acc: 0.8000\n",
      "Epoch 14/70\n",
      "801/801 [==============================] - 0s 110us/step - loss: 0.4958 - acc: 0.8002 - val_loss: 0.4534 - val_acc: 0.8000\n",
      "Epoch 15/70\n",
      "801/801 [==============================] - 0s 114us/step - loss: 0.4918 - acc: 0.7953 - val_loss: 0.4420 - val_acc: 0.8000\n",
      "Epoch 16/70\n",
      "801/801 [==============================] - 0s 141us/step - loss: 0.4903 - acc: 0.8015 - val_loss: 0.4443 - val_acc: 0.8000\n",
      "Epoch 17/70\n",
      "801/801 [==============================] - 0s 133us/step - loss: 0.4918 - acc: 0.8027 - val_loss: 0.4387 - val_acc: 0.8111\n",
      "Epoch 18/70\n",
      "801/801 [==============================] - 0s 121us/step - loss: 0.4902 - acc: 0.8140 - val_loss: 0.4495 - val_acc: 0.8000\n",
      "Epoch 19/70\n",
      "801/801 [==============================] - 0s 117us/step - loss: 0.4712 - acc: 0.8052 - val_loss: 0.4375 - val_acc: 0.7778\n",
      "Epoch 20/70\n",
      "801/801 [==============================] - 0s 111us/step - loss: 0.4884 - acc: 0.8090 - val_loss: 0.4386 - val_acc: 0.7889\n",
      "Epoch 21/70\n",
      "801/801 [==============================] - 0s 109us/step - loss: 0.4819 - acc: 0.8040 - val_loss: 0.4381 - val_acc: 0.7778\n",
      "Epoch 22/70\n",
      "801/801 [==============================] - 0s 98us/step - loss: 0.4719 - acc: 0.8127 - val_loss: 0.4319 - val_acc: 0.8111\n",
      "Epoch 23/70\n",
      "801/801 [==============================] - 0s 93us/step - loss: 0.4821 - acc: 0.8065 - val_loss: 0.4349 - val_acc: 0.7778\n",
      "Epoch 24/70\n",
      "801/801 [==============================] - 0s 117us/step - loss: 0.4861 - acc: 0.8115 - val_loss: 0.4419 - val_acc: 0.8000\n",
      "Epoch 25/70\n",
      "801/801 [==============================] - 0s 118us/step - loss: 0.4824 - acc: 0.8052 - val_loss: 0.4417 - val_acc: 0.8000\n",
      "Epoch 26/70\n",
      "801/801 [==============================] - 0s 104us/step - loss: 0.4804 - acc: 0.8115 - val_loss: 0.4293 - val_acc: 0.8222\n",
      "Epoch 27/70\n",
      "801/801 [==============================] - 0s 113us/step - loss: 0.4961 - acc: 0.8027 - val_loss: 0.4382 - val_acc: 0.8000\n",
      "Epoch 28/70\n",
      "801/801 [==============================] - 0s 104us/step - loss: 0.4815 - acc: 0.8127 - val_loss: 0.4418 - val_acc: 0.8111\n",
      "Epoch 29/70\n",
      "801/801 [==============================] - 0s 183us/step - loss: 0.4775 - acc: 0.8165 - val_loss: 0.4378 - val_acc: 0.8000\n",
      "Epoch 30/70\n",
      "801/801 [==============================] - 0s 122us/step - loss: 0.4678 - acc: 0.8115 - val_loss: 0.4348 - val_acc: 0.8111\n",
      "Epoch 31/70\n",
      "801/801 [==============================] - 0s 109us/step - loss: 0.4627 - acc: 0.8077 - val_loss: 0.4322 - val_acc: 0.8111\n",
      "Epoch 32/70\n",
      "801/801 [==============================] - 0s 104us/step - loss: 0.4900 - acc: 0.8140 - val_loss: 0.4346 - val_acc: 0.8000\n",
      "Epoch 33/70\n",
      "801/801 [==============================] - 0s 130us/step - loss: 0.4640 - acc: 0.8202 - val_loss: 0.4329 - val_acc: 0.8000\n",
      "Epoch 34/70\n",
      "801/801 [==============================] - 0s 126us/step - loss: 0.4769 - acc: 0.8052 - val_loss: 0.4317 - val_acc: 0.8000\n",
      "Epoch 35/70\n",
      "801/801 [==============================] - 0s 193us/step - loss: 0.4673 - acc: 0.8102 - val_loss: 0.4350 - val_acc: 0.7889\n",
      "Epoch 36/70\n",
      "801/801 [==============================] - 0s 217us/step - loss: 0.4764 - acc: 0.8040 - val_loss: 0.4328 - val_acc: 0.8111\n",
      "Epoch 37/70\n",
      "801/801 [==============================] - 0s 193us/step - loss: 0.4754 - acc: 0.8177 - val_loss: 0.4337 - val_acc: 0.8111\n",
      "Epoch 38/70\n",
      "801/801 [==============================] - 0s 181us/step - loss: 0.4649 - acc: 0.8090 - val_loss: 0.4389 - val_acc: 0.7778\n",
      "Epoch 39/70\n",
      "801/801 [==============================] - 0s 184us/step - loss: 0.4771 - acc: 0.8240 - val_loss: 0.4377 - val_acc: 0.7778\n",
      "Epoch 40/70\n",
      "801/801 [==============================] - 0s 193us/step - loss: 0.4629 - acc: 0.8127 - val_loss: 0.4429 - val_acc: 0.7889\n",
      "Epoch 41/70\n",
      "801/801 [==============================] - 0s 179us/step - loss: 0.4660 - acc: 0.8252 - val_loss: 0.4358 - val_acc: 0.8111\n",
      "Epoch 42/70\n",
      "801/801 [==============================] - 0s 199us/step - loss: 0.4774 - acc: 0.8052 - val_loss: 0.4341 - val_acc: 0.8222\n",
      "Epoch 43/70\n",
      "801/801 [==============================] - 0s 194us/step - loss: 0.4664 - acc: 0.8127 - val_loss: 0.4371 - val_acc: 0.8000\n",
      "Epoch 44/70\n",
      "801/801 [==============================] - 0s 193us/step - loss: 0.4731 - acc: 0.8152 - val_loss: 0.4352 - val_acc: 0.8111\n",
      "Epoch 45/70\n",
      "801/801 [==============================] - 0s 128us/step - loss: 0.4713 - acc: 0.8115 - val_loss: 0.4334 - val_acc: 0.8111\n",
      "Epoch 46/70\n",
      "801/801 [==============================] - 0s 148us/step - loss: 0.4730 - acc: 0.8065 - val_loss: 0.4309 - val_acc: 0.8222\n",
      "Epoch 47/70\n",
      "801/801 [==============================] - 0s 197us/step - loss: 0.4637 - acc: 0.8127 - val_loss: 0.4330 - val_acc: 0.8111\n",
      "Epoch 48/70\n",
      "801/801 [==============================] - 0s 181us/step - loss: 0.4638 - acc: 0.8102 - val_loss: 0.4312 - val_acc: 0.8111\n",
      "Epoch 49/70\n",
      "801/801 [==============================] - 0s 124us/step - loss: 0.4718 - acc: 0.8077 - val_loss: 0.4318 - val_acc: 0.8111\n",
      "Epoch 50/70\n",
      "801/801 [==============================] - 0s 110us/step - loss: 0.4635 - acc: 0.8127 - val_loss: 0.4357 - val_acc: 0.7889\n",
      "Epoch 51/70\n",
      "801/801 [==============================] - 0s 159us/step - loss: 0.4619 - acc: 0.8115 - val_loss: 0.4313 - val_acc: 0.8111\n",
      "Epoch 52/70\n",
      "801/801 [==============================] - 0s 207us/step - loss: 0.4609 - acc: 0.8127 - val_loss: 0.4301 - val_acc: 0.8111\n",
      "Epoch 53/70\n",
      "801/801 [==============================] - 0s 180us/step - loss: 0.4578 - acc: 0.8115 - val_loss: 0.4321 - val_acc: 0.8000\n",
      "Epoch 54/70\n",
      "801/801 [==============================] - 0s 201us/step - loss: 0.4748 - acc: 0.8140 - val_loss: 0.4319 - val_acc: 0.8000\n",
      "Epoch 55/70\n",
      "801/801 [==============================] - 0s 140us/step - loss: 0.4633 - acc: 0.8165 - val_loss: 0.4300 - val_acc: 0.8111\n",
      "Epoch 56/70\n",
      "801/801 [==============================] - 0s 166us/step - loss: 0.4598 - acc: 0.8090 - val_loss: 0.4349 - val_acc: 0.7889\n",
      "Epoch 57/70\n",
      "801/801 [==============================] - 0s 215us/step - loss: 0.4536 - acc: 0.8115 - val_loss: 0.4316 - val_acc: 0.7889\n",
      "Epoch 58/70\n",
      "801/801 [==============================] - 0s 197us/step - loss: 0.4646 - acc: 0.8152 - val_loss: 0.4315 - val_acc: 0.8000\n",
      "Epoch 59/70\n",
      "801/801 [==============================] - 0s 149us/step - loss: 0.4634 - acc: 0.8152 - val_loss: 0.4322 - val_acc: 0.8000\n",
      "Epoch 60/70\n",
      "801/801 [==============================] - 0s 217us/step - loss: 0.4619 - acc: 0.8102 - val_loss: 0.4322 - val_acc: 0.7889\n",
      "Epoch 61/70\n",
      "801/801 [==============================] - 0s 164us/step - loss: 0.4441 - acc: 0.8140 - val_loss: 0.4331 - val_acc: 0.8000\n",
      "Epoch 62/70\n",
      "801/801 [==============================] - 0s 171us/step - loss: 0.4625 - acc: 0.8165 - val_loss: 0.4299 - val_acc: 0.8000\n",
      "Epoch 63/70\n",
      "801/801 [==============================] - 0s 136us/step - loss: 0.4603 - acc: 0.8090 - val_loss: 0.4286 - val_acc: 0.8000\n",
      "Epoch 64/70\n",
      "801/801 [==============================] - 0s 150us/step - loss: 0.4622 - acc: 0.8065 - val_loss: 0.4291 - val_acc: 0.8000\n",
      "Epoch 65/70\n",
      "801/801 [==============================] - 0s 156us/step - loss: 0.4542 - acc: 0.8165 - val_loss: 0.4257 - val_acc: 0.8222\n",
      "Epoch 66/70\n",
      "801/801 [==============================] - 0s 116us/step - loss: 0.4761 - acc: 0.8040 - val_loss: 0.4225 - val_acc: 0.8111\n",
      "Epoch 67/70\n",
      "801/801 [==============================] - 0s 165us/step - loss: 0.4651 - acc: 0.8165 - val_loss: 0.4296 - val_acc: 0.8000\n",
      "Epoch 68/70\n",
      "801/801 [==============================] - 0s 142us/step - loss: 0.4673 - acc: 0.8140 - val_loss: 0.4304 - val_acc: 0.8111\n",
      "Epoch 69/70\n",
      "801/801 [==============================] - 0s 115us/step - loss: 0.4695 - acc: 0.8027 - val_loss: 0.4359 - val_acc: 0.8000\n",
      "Epoch 70/70\n",
      "801/801 [==============================] - 0s 107us/step - loss: 0.4618 - acc: 0.8140 - val_loss: 0.4337 - val_acc: 0.7889\n"
     ]
    }
   ],
   "source": [
    "single_model = nn_model()\n",
    "\n",
    "train_history = single_model.fit(x=x_train, y=y_train,\n",
    "                          validation_split=0.1,\n",
    "                          epochs=70,\n",
    "                          batch_size=32, verbose=1)"
   ]
  },
  {
   "cell_type": "markdown",
   "metadata": {},
   "source": [
    "## 4. Evaluation\n",
    "### 4.1 SingleTraining History"
   ]
  },
  {
   "cell_type": "code",
   "execution_count": 10,
   "metadata": {
    "collapsed": true
   },
   "outputs": [],
   "source": [
    "### Auxiliary Function : Show Neural Net Traning History\n",
    "import matplotlib.pyplot as plt\n",
    "%matplotlib inline\n",
    " \n",
    "def show_train_history(train_history, train, validation):\n",
    "    plt.plot(train_history.history[train])\n",
    "    plt.plot(train_history.history[validation])\n",
    "    plt.title('Training History')\n",
    "    plt.ylabel(train)\n",
    "    plt.xlabel('Epochs')\n",
    "    plt.legend(['train', 'validation'], loc = 'upper left')\n",
    "    plt.show()"
   ]
  },
  {
   "cell_type": "code",
   "execution_count": 11,
   "metadata": {},
   "outputs": [
    {
     "data": {
      "image/png": "[encoded data removed]",
      "text/plain": [
       "<matplotlib.figure.Figure at 0x1a16fd82b0>"
      ]
     },
     "metadata": {},
     "output_type": "display_data"
    }
   ],
   "source": [
    "show_train_history(train_history, 'acc', 'val_acc')"
   ]
  },
  {
   "cell_type": "code",
   "execution_count": 12,
   "metadata": {},
   "outputs": [
    {
     "data": {
      "image/png": "[encoded data removed]",
      "text/plain": [
       "<matplotlib.figure.Figure at 0x1a1c891f28>"
      ]
     },
     "metadata": {},
     "output_type": "display_data"
    }
   ],
   "source": [
    "show_train_history(train_history, 'loss', 'val_loss')"
   ]
  },
  {
   "cell_type": "markdown",
   "metadata": {},
   "source": [
    "### 4.2 Cross Validation"
   ]
  },
  {
   "cell_type": "code",
   "execution_count": 14,
   "metadata": {},
   "outputs": [
    {
     "name": "stdout",
     "output_type": "stream",
     "text": [
      "10 Fold Cross Validation Mean Accuracy : 0.819343801566\n"
     ]
    }
   ],
   "source": [
    "from sklearn.model_selection import StratifiedKFold, cross_val_score\n",
    "kfold = StratifiedKFold(n_splits=5, shuffle=True, random_state=seed)\n",
    "\n",
    "cv_model = KerasClassifier(build_fn=nn_model, epochs=70, batch_size=16, verbose=0)\n",
    "results = cross_val_score(cv_model, x_train, y_train, cv=kfold)\n",
    "\n",
    "print(\"10 Fold Cross Validation Mean Accuracy :\", results.mean())"
   ]
  },
  {
   "cell_type": "markdown",
   "metadata": {},
   "source": [
    "## Submission"
   ]
  },
  {
   "cell_type": "code",
   "execution_count": 15,
   "metadata": {
    "collapsed": true
   },
   "outputs": [],
   "source": [
    "submission = pd.DataFrame({\"PassengerId\" : test_id, \n",
    "                           \"Survived\" : single_model.predict_classes(x_test).reshape(len(x_test), )})\n",
    "submission.to_csv(\"DNN_subm.csv\", index = False)"
   ]
  },
  {
   "cell_type": "markdown",
   "metadata": {},
   "source": [
    "## Homework Comments\n",
    "與上次 Homework 3結果（80％）比較，使用類神經網路後，效果反而較差（77%），推測導致原因可能有二。\n",
    "\n",
    "![](https://i.imgur.com/ubomisW.png =400x)\n",
    "\n",
    "### 1. 類神經網路模型參數設定\n",
    "由於類神經網路能夠調整之參數繁多（如隱藏層要幾層、節點要幾個等），需要擁有相當經驗，或是耗費相當多時間，尋找最佳參數組合，讓模型達到最佳之效果，而在此次作業中的參數，僅是隨性設定，因此模型很可能未達最佳狀態。\n",
    "\n",
    "### 2. 訓練資料集過小\n",
    "在資料量少的情況下，深度學習表現較一般機器學習相差無幾，當資料量變大，才能夠讓深度學習模型更好的學習、調整權重，達到過去方法達不到的效果。而在此次訓練集中僅有891筆，因此表現與上次作業結果相近，甚至小輸。\n",
    "\n",
    "![](https://i.imgur.com/pFsvavl.png =300x)"
   ]
  }
 ],
 "metadata": {
  "kernelspec": {
   "display_name": "Python 3",
   "language": "python",
   "name": "python3"
  },
  "language_info": {
   "codemirror_mode": {
    "name": "ipython",
    "version": 3
   },
   "file_extension": ".py",
   "mimetype": "text/x-python",
   "name": "python",
   "nbconvert_exporter": "python",
   "pygments_lexer": "ipython3",
   "version": "3.6.4"
  }
 },
 "nbformat": 4,
 "nbformat_minor": 2
}
